{
  "nbformat": 4,
  "nbformat_minor": 0,
  "metadata": {
    "colab": {
      "private_outputs": true,
      "provenance": [],
      "name": "10.ipynb",
      "authorship_tag": "ABX9TyMYzSJPXYioTcq0EO2tHm6Q",
      "include_colab_link": true
    },
    "kernelspec": {
      "name": "python3",
      "display_name": "Python 3"
    },
    "language_info": {
      "name": "python"
    }
  },
  "cells": [
    {
      "cell_type": "markdown",
      "metadata": {
        "id": "view-in-github",
        "colab_type": "text"
      },
      "source": [
        "<a href=\"https://colab.research.google.com/github/Mitritch70/ForHomeWork_Git/blob/main/10.ipynb\" target=\"_parent\"><img src=\"https://colab.research.google.com/assets/colab-badge.svg\" alt=\"Open In Colab\"/></a>"
      ]
    },
    {
      "cell_type": "code",
      "execution_count": null,
      "metadata": {
        "id": "yq27QKnPBz8w"
      },
      "outputs": [],
      "source": [
        "import numpy as np"
      ]
    },
    {
      "cell_type": "code",
      "source": [
        "import scipy.stats as stats"
      ],
      "metadata": {
        "id": "prtr5JvyC9qT"
      },
      "execution_count": null,
      "outputs": []
    },
    {
      "cell_type": "code",
      "source": [
        "import statistics"
      ],
      "metadata": {
        "id": "oSTNNm1KMmoe"
      },
      "execution_count": null,
      "outputs": []
    },
    {
      "cell_type": "code",
      "source": [
        "import pandas as pd"
      ],
      "metadata": {
        "id": "Dm54g3TNNjgW"
      },
      "execution_count": null,
      "outputs": []
    },
    {
      "cell_type": "code",
      "source": [
        "import matplotlib.pyplot as plt"
      ],
      "metadata": {
        "id": "58aOOsJv7UbN"
      },
      "execution_count": null,
      "outputs": []
    },
    {
      "cell_type": "code",
      "source": [
        "from statsmodels.stats.multicomp import pairwise_tukeyhsd"
      ],
      "metadata": {
        "id": "Nzt-MMmQzgZ1"
      },
      "execution_count": null,
      "outputs": []
    },
    {
      "cell_type": "markdown",
      "source": [
        "Провести дисперсионный анализ для определения того, есть ли различия среднего роста среди взрослых футболистов, хоккеистов и штангистов.\n",
        "Даны значения роста в трех группах случайно выбранных спортсменов:\n",
        "Футболисты: 173, 175, 180, 178, 177, 185, 183, 182.\n",
        "Хоккеисты: 177, 179, 180, 188, 177, 172, 171, 184, 180.\n",
        "Штангисты: 172, 173, 169, 177, 166, 180, 178, 177, 172, 166, 170."
      ],
      "metadata": {
        "id": "NOV2gu1cv_uw"
      }
    },
    {
      "cell_type": "markdown",
      "source": [
        "Определим гипотезу"
      ],
      "metadata": {
        "id": "4hG9cPIyyBnX"
      }
    },
    {
      "cell_type": "code",
      "source": [
        "football = np.array([173, 175, 180, 178, 177, 185, 183, 182])\n",
        "hockey = np.array([177, 179, 180, 188, 177, 172, 171, 184, 180])\n",
        "weightlifters = np.array([172, 173, 169, 177, 166, 180, 178, 177, 172, 166, 170])"
      ],
      "metadata": {
        "id": "azFhjJC9vz7o"
      },
      "execution_count": null,
      "outputs": []
    },
    {
      "cell_type": "markdown",
      "source": [
        "Определяем наблюдаемый критерий\n",
        "Выбираем критерий Краскела-Уоллиса, потому что в каждой выборке разное количество элементов и они не зависимы между собой"
      ],
      "metadata": {
        "id": "J5p6om81yIVo"
      }
    },
    {
      "cell_type": "code",
      "source": [
        "stats.kruskal(football, hockey, weightlifters)"
      ],
      "metadata": {
        "id": "A8spR8gYyMkW"
      },
      "execution_count": null,
      "outputs": []
    },
    {
      "cell_type": "markdown",
      "source": [
        "Определяем уровень значимости\n"
      ],
      "metadata": {
        "id": "RQiKfZxAyeFs"
      }
    },
    {
      "cell_type": "markdown",
      "source": [
        "среднего рост футболистов, хоккеистов и штангистоа имеется."
      ],
      "metadata": {
        "id": "NQuP8cjiyfbr"
      }
    },
    {
      "cell_type": "code",
      "source": [
        "df = pd.DataFrame({\"score\": [173, 175, 180, 178, 177, 185, 183, 182,\n",
        "                             177, 179, 180, 188, 177, 172, 171, 184, 180,\n",
        "                             172, 173, 169, 177, 166, 180, 178, 177, 172, 166, 170],\n",
        "                   \"group\": np.repeat([\"football\", \"hockey\", \"weightlifters\"], repeats = [8, 9, 11])})\n",
        "df"
      ],
      "metadata": {
        "id": "emcmy5Sjyo1g"
      },
      "execution_count": null,
      "outputs": []
    },
    {
      "cell_type": "code",
      "source": [
        "tukey = pairwise_tukeyhsd(df[\"score\"], df[\"group\"], alpha = 0.05)\n",
        "print(tukey)"
      ],
      "metadata": {
        "id": "PSRYwTrKzP6j"
      },
      "execution_count": null,
      "outputs": []
    },
    {
      "cell_type": "markdown",
      "source": [
        "Между группой football и hockeyТак нет различий в среднем росте, тогда как между группами football и weightlifters, а так же между группами hockey и weightlifters есть различия в среднем росте."
      ],
      "metadata": {
        "id": "k2CNSUUjzqFI"
      }
    }
  ]
}