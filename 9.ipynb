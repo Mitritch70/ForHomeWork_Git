{
  "nbformat": 4,
  "nbformat_minor": 0,
  "metadata": {
    "colab": {
      "private_outputs": true,
      "provenance": [],
      "name": "9.ipynb",
      "authorship_tag": "ABX9TyN4eDpL/aFm4QWHj4qwKWki"
    },
    "kernelspec": {
      "name": "python3",
      "display_name": "Python 3"
    },
    "language_info": {
      "name": "python"
    }
  },
  "cells": [
    {
      "cell_type": "code",
      "execution_count": null,
      "metadata": {
        "id": "yq27QKnPBz8w"
      },
      "outputs": [],
      "source": [
        "import numpy as np"
      ]
    },
    {
      "cell_type": "code",
      "source": [
        "import scipy.stats as stats"
      ],
      "metadata": {
        "id": "prtr5JvyC9qT"
      },
      "execution_count": null,
      "outputs": []
    },
    {
      "cell_type": "code",
      "source": [
        "import statistics"
      ],
      "metadata": {
        "id": "oSTNNm1KMmoe"
      },
      "execution_count": null,
      "outputs": []
    },
    {
      "cell_type": "code",
      "source": [
        "import pandas as pd"
      ],
      "metadata": {
        "id": "Dm54g3TNNjgW"
      },
      "execution_count": null,
      "outputs": []
    },
    {
      "cell_type": "code",
      "source": [
        "import matplotlib.pyplot as plt"
      ],
      "metadata": {
        "id": "58aOOsJv7UbN"
      },
      "execution_count": null,
      "outputs": []
    },
    {
      "cell_type": "markdown",
      "source": [
        "1. Даны значения величины заработной платы заемщиков банка (zp) и значения их поведенческого кредитного скоринга (ks): zp = [35, 45, 190, 200, 40, 70, 54, 150, 120, 110], ks = [401, 574, 874, 919, 459, 739, 653, 902, 746, 832]. Используя математические операции, посчитать коэффициенты линейной регрессии, приняв за X заработную плату (то есть, zp - признак), а за y - значения скорингового балла (то есть, ks - целевая переменная). Произвести расчет как с использованием intercept, так и без."
      ],
      "metadata": {
        "id": "Y73l-r48EP7j"
      }
    },
    {
      "cell_type": "code",
      "source": [
        "zp = np.array([35, 45, 190, 200, 40, 70, 54, 150, 120, 110])\n",
        "ks = np.array([401, 574, 874, 919, 459, 739, 653, 902, 746, 832])"
      ],
      "metadata": {
        "id": "5m5rU5chEjBb"
      },
      "execution_count": null,
      "outputs": []
    },
    {
      "cell_type": "markdown",
      "source": [
        "Посмотрим на графике, есть ли зависимость между данными?"
      ],
      "metadata": {
        "id": "Emvu4zC7EzZx"
      }
    },
    {
      "cell_type": "code",
      "source": [
        "plt.scatter(zp,ks)\n",
        "plt.xlabel('Величина заработной платы')\n",
        "plt.ylabel('Поведенческий кредитный скоринг', rotation=90)\n",
        "plt.show()"
      ],
      "metadata": {
        "id": "J-bT2H6PE6AP"
      },
      "execution_count": null,
      "outputs": []
    },
    {
      "cell_type": "markdown",
      "source": [
        "По графику можно предположить о наличии некоей линейной взаимосвязи между зависимой и независимой переменными,\n",
        "т.е. связь между ними можно описать некоторой линейной функцией:ks=a+b*zp\n",
        "Найдем коэффициент b по формулe:b=((xy)cp-x(cp)*y(cp))/((x)cp^(1/2)-x(cp)6(1/2))"
      ],
      "metadata": {
        "id": "ABj-jeBeFi4-"
      }
    },
    {
      "cell_type": "code",
      "source": [
        "b=(np.mean(zp * ks) - np.mean(zp) * np.mean(ks)) / (np.mean(zp**2) - np.mean(zp) ** 2)\n",
        "b\n"
      ],
      "metadata": {
        "id": "liQIkk2cJgZB"
      },
      "execution_count": null,
      "outputs": []
    },
    {
      "cell_type": "markdown",
      "source": [
        "Найдем величину интерсепта a, которая показывает чему будет равна зависимая переменная, если независимая равна 0. Расчитаем интерсепт по формуле:\n",
        "a=y-bx =ks-bxp"
      ],
      "metadata": {
        "id": "Y4QJR_m5JsQl"
      }
    },
    {
      "cell_type": "code",
      "source": [
        "a=np.mean(ks)-b*np.mean(zp)\n",
        "a"
      ],
      "metadata": {
        "id": "CgSKpB10KY1t"
      },
      "execution_count": null,
      "outputs": []
    },
    {
      "cell_type": "markdown",
      "source": [
        "И линейную взаимосвязь между заработной платой и кредитным скорингом можно описать функцией:\n",
        "\n",
        "Отобразим результаты на графике: ks=444.18+2.62*zp"
      ],
      "metadata": {
        "id": "a3wjAJivKwCY"
      }
    },
    {
      "cell_type": "code",
      "source": [
        "plt.scatter(zp,ks)\n",
        "plt.plot(zp, 444.18+2.62*zp, c='r', label=r'$ks=444.18+2.62\\cdot zp$')\n",
        "plt.legend()\n",
        "plt.xlabel('Величина заработной платы')\n",
        "plt.ylabel('Поведенческий кредитный скоринг', rotation=90)\n",
        "plt.show()"
      ],
      "metadata": {
        "id": "sBVJ4ZnhLA57"
      },
      "execution_count": null,
      "outputs": []
    },
    {
      "cell_type": "code",
      "source": [
        "zp = np.array([35, 45, 190, 200, 40, 70, 54, 150, 120, 110])\n",
        "ks = np.array([401, 574, 874, 919, 459, 739, 653, 902, 746, 832])"
      ],
      "metadata": {
        "id": "YxqeugTeOBJm"
      },
      "execution_count": null,
      "outputs": []
    },
    {
      "cell_type": "code",
      "source": [
        "ks=ks.reshape((-1,1))\n",
        "ks"
      ],
      "metadata": {
        "id": "Ed13Z7TrLoes"
      },
      "execution_count": null,
      "outputs": []
    },
    {
      "cell_type": "code",
      "source": [
        "zp=zp.reshape((-1,1))\n",
        "zp=np.hstack([np.ones((len(zp),1)),zp])\n",
        "zp"
      ],
      "metadata": {
        "id": "q4se14c1LsyP"
      },
      "execution_count": null,
      "outputs": []
    },
    {
      "cell_type": "code",
      "source": [
        "B=np.dot(np.linalg.inv(np.dot(zp.T,zp)),np.dot(zp.T,ks))\n",
        "B"
      ],
      "metadata": {
        "id": "rFl_uBl5L-oT"
      },
      "execution_count": null,
      "outputs": []
    },
    {
      "cell_type": "code",
      "source": [
        "ks=ks.reshape((-1,1))\n",
        "ks"
      ],
      "metadata": {
        "id": "qnayDQpZMNv6"
      },
      "execution_count": null,
      "outputs": []
    },
    {
      "cell_type": "code",
      "source": [
        "zp=zp.reshape((-1,1))\n",
        "zp"
      ],
      "metadata": {
        "id": "-t96LPh4MdIg"
      },
      "execution_count": null,
      "outputs": []
    },
    {
      "cell_type": "code",
      "source": [
        "B=np.dot(np.linalg.inv(np.dot(zp.T,zp)),np.dot(zp.T,ks))\n",
        "B"
      ],
      "metadata": {
        "id": "w7XQ60MHM2Vl"
      },
      "execution_count": null,
      "outputs": []
    },
    {
      "cell_type": "code",
      "source": [
        "plt.scatter(zp,ks)\n",
        "plt.plot(zp, 444.18+2.62*zp, c='r', label=r'$ks=444.18+2.62\\cdot zp$')\n",
        "plt.plot(zp, B*zp, c='g', label=r'$ks=5.89\\cdot zp$')\n",
        "plt.legend()\n",
        "plt.xlabel('Величина заработной платы')\n",
        "plt.ylabel('Поведенческий кредитный скоринг', rotation=90)\n",
        "plt.show()"
      ],
      "metadata": {
        "id": "C7yl464MNUti"
      },
      "execution_count": null,
      "outputs": []
    },
    {
      "cell_type": "markdown",
      "source": [
        " 2. Посчитать коэффициент линейной регрессии при заработной плате (zp), используя градиентный спуск (без intercept)."
      ],
      "metadata": {
        "id": "-3nXeyPUONV3"
      }
    },
    {
      "cell_type": "code",
      "source": [
        "def _mse(b, x, y):\n",
        "    return np.sum((b*x-y)**2)/len(x)"
      ],
      "metadata": {
        "id": "Nv9EH-wxP773"
      },
      "execution_count": null,
      "outputs": []
    },
    {
      "cell_type": "code",
      "source": [
        "zp = np.array([35, 45, 190, 200, 40, 70, 54, 150, 120, 110])\n",
        "ks = np.array([401, 574, 874, 919, 459, 739, 653, 902, 746, 832])"
      ],
      "metadata": {
        "id": "li9WvQnwP_4L"
      },
      "execution_count": null,
      "outputs": []
    },
    {
      "cell_type": "code",
      "source": [
        "_mse(2.62, zp, ks)"
      ],
      "metadata": {
        "id": "GVLyz-K1QFPr"
      },
      "execution_count": null,
      "outputs": []
    },
    {
      "cell_type": "code",
      "source": [
        "def _mse_p(b,x,y):\n",
        "    return (2/len(x))*np.sum((b*x-y)*x)"
      ],
      "metadata": {
        "id": "f8wl1KEBQOLT"
      },
      "execution_count": null,
      "outputs": []
    },
    {
      "cell_type": "markdown",
      "source": [
        "Так же введем параметр - скорость обучения c помощью которого будем регулировать скорость подбора коэффициента b"
      ],
      "metadata": {
        "id": "0uiN2SwsQUUO"
      }
    },
    {
      "cell_type": "code",
      "source": [
        "alpha=1e-06"
      ],
      "metadata": {
        "id": "cQOTTyJgQdzh"
      },
      "execution_count": null,
      "outputs": []
    },
    {
      "cell_type": "code",
      "source": [
        "b=0.1\n",
        "mse_min=_mse(b,zp,ks)\n",
        "i_min=1\n",
        "b_min=b\n",
        "for i in range(10000):\n",
        "    b-=alpha*_mse_p(b,zp,ks)\n",
        "    if i%100==0:\n",
        "        print(f'Итерация #{i}, b={b}, mse={_mse(b, zp,ks)}')\n",
        "    if _mse(b,zp,ks)>mse_min:\n",
        "        print(f'Итерация #{i_min}, b={b_min}, mse={mse_min},\\nДостигнут минимум.')\n",
        "        break\n",
        "    else:\n",
        "        mse_min=_mse(b,zp,ks)\n",
        "        i_min=i\n",
        "        b_min=b"
      ],
      "metadata": {
        "id": "6EvEOv8lQfAc"
      },
      "execution_count": null,
      "outputs": []
    },
    {
      "cell_type": "code",
      "source": [
        "b_min"
      ],
      "metadata": {
        "id": "lyfNP5qAQuif"
      },
      "execution_count": null,
      "outputs": []
    },
    {
      "cell_type": "markdown",
      "source": [
        "3. Произвести вычисления как в пункте 2, но с вычислением intercept. Учесть, что изменение коэффициентов должно производиться на каждом шаге одновременно (то есть изменение одного коэффициента не должно влиять на изменение другого во время одной итерации)."
      ],
      "metadata": {
        "id": "eze82c-KQ0y4"
      }
    },
    {
      "cell_type": "code",
      "source": [
        "zp = np.array([35, 45, 190, 200, 40, 70, 54, 150, 120, 110])\n",
        "ks = np.array([401, 574, 874, 919, 459, 739, 653, 902, 746, 832])"
      ],
      "metadata": {
        "id": "1I4b6ipIQ5D3"
      },
      "execution_count": null,
      "outputs": []
    },
    {
      "cell_type": "markdown",
      "source": [
        "Функция потерь:"
      ],
      "metadata": {
        "id": "EBcLzgPXRDOo"
      }
    },
    {
      "cell_type": "code",
      "source": [
        "def _mse_ab(a,b, x, y):\n",
        "    return np.sum(((a+b*x)-y)**2)/len(x)"
      ],
      "metadata": {
        "id": "nE-ebUCFRAX-"
      },
      "execution_count": null,
      "outputs": []
    },
    {
      "cell_type": "markdown",
      "source": [
        "Частная производная функции потерь по a:"
      ],
      "metadata": {
        "id": "ePOuGHadRKnA"
      }
    },
    {
      "cell_type": "code",
      "source": [
        "def _mse_pa(a,b,x,y):\n",
        "    return 2*np.sum((a+b*x)-y)/len(x)"
      ],
      "metadata": {
        "id": "yweZVSq6RRtT"
      },
      "execution_count": null,
      "outputs": []
    },
    {
      "cell_type": "markdown",
      "source": [
        "Частная производная функции потерь по b:"
      ],
      "metadata": {
        "id": "P9S5ui-XRfph"
      }
    },
    {
      "cell_type": "code",
      "source": [
        "def _mse_pb(a,b,x,y):\n",
        "    return 2*np.sum(((a+b*x)-y)*x)/len(x)"
      ],
      "metadata": {
        "id": "IkzREIJsRmGb"
      },
      "execution_count": null,
      "outputs": []
    },
    {
      "cell_type": "code",
      "source": [
        "alpha=5e-05"
      ],
      "metadata": {
        "id": "CEqt2zhXR4lv"
      },
      "execution_count": null,
      "outputs": []
    },
    {
      "cell_type": "code",
      "source": [
        "b=0.1\n",
        "a=0.1\n",
        "mseab_min=_mse_ab(a,b,zp,ks)\n",
        "i_min=1\n",
        "b_min=b\n",
        "a_min=a\n",
        "\n",
        "for i in range(1000000):\n",
        "    a-=alpha*_mse_pa(a,b,zp,ks)\n",
        "    b-=alpha*_mse_pb(a,b,zp,ks)\n",
        "    if i%50000==0:\n",
        "        print(f'Итерация #{i}, a={a}, b={b}, mse={_mse_ab(a, b, zp,ks)}')\n",
        "    if _mse_ab(a, b,zp,ks)>mseab_min:\n",
        "        print(f'Итерация #{i_min}, a={a_min}, b={b_min}, mse={mseab_min},\\nДостигнут минимум.')\n",
        "        break\n",
        "    else:\n",
        "        mseab_min=_mse_ab(a, b,zp,ks)\n",
        "        i_min=i\n",
        "        b_min=b\n",
        "        a_min=a\n",
        "print(f'a={a_min}\\nb={b_min}')"
      ],
      "metadata": {
        "id": "wECNTp5_R8Pf"
      },
      "execution_count": null,
      "outputs": []
    },
    {
      "cell_type": "code",
      "source": [
        "plt.scatter(zp,ks)\n",
        "plt.plot(zp,a_min+b_min*zp, c='r', label=r'$ks=444.17653163778414+2.62054495966686\\cdot zp$')\n",
        "plt.legend()\n",
        "plt.xlabel('Величина заработной платы')\n",
        "plt.ylabel('Поведенческий кредитный скоринг', rotation=90)\n",
        "plt.show()"
      ],
      "metadata": {
        "id": "jbUGHtnySE3B"
      },
      "execution_count": null,
      "outputs": []
    }
  ]
}