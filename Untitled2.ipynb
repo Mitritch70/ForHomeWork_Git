{
  "nbformat": 4,
  "nbformat_minor": 0,
  "metadata": {
    "colab": {
      "private_outputs": true,
      "provenance": [],
      "authorship_tag": "ABX9TyNZgjpHxk8QWNZiZqHWUsuB",
      "include_colab_link": true
    },
    "kernelspec": {
      "name": "python3",
      "display_name": "Python 3"
    },
    "language_info": {
      "name": "python"
    }
  },
  "cells": [
    {
      "cell_type": "markdown",
      "metadata": {
        "id": "view-in-github",
        "colab_type": "text"
      },
      "source": [
        "<a href=\"https://colab.research.google.com/github/Mitritch70/ForHomeWork_Git/blob/main/Untitled2.ipynb\" target=\"_parent\"><img src=\"https://colab.research.google.com/assets/colab-badge.svg\" alt=\"Open In Colab\"/></a>"
      ]
    },
    {
      "cell_type": "code",
      "execution_count": null,
      "metadata": {
        "id": "yq27QKnPBz8w"
      },
      "outputs": [],
      "source": [
        "import numpy as np"
      ]
    },
    {
      "cell_type": "code",
      "source": [
        "from scipy import stats"
      ],
      "metadata": {
        "id": "prtr5JvyC9qT"
      },
      "execution_count": null,
      "outputs": []
    },
    {
      "cell_type": "code",
      "source": [
        "import statistics"
      ],
      "metadata": {
        "id": "oSTNNm1KMmoe"
      },
      "execution_count": null,
      "outputs": []
    },
    {
      "cell_type": "code",
      "source": [
        "import math"
      ],
      "metadata": {
        "id": "Dm54g3TNNjgW"
      },
      "execution_count": null,
      "outputs": []
    },
    {
      "cell_type": "code",
      "source": [
        "from numpy import linalg as LA"
      ],
      "metadata": {
        "id": "58aOOsJv7UbN"
      },
      "execution_count": null,
      "outputs": []
    },
    {
      "cell_type": "code",
      "source": [
        "def equalmean(x,y):\n",
        "    # вычисляем разность выборок\n",
        "    dif= x-y\n",
        "    n=len(dif)\n",
        "    # вычисляем среднее разности\n",
        "    mean_dif=dif.mean()\n",
        "    # вычисляем несмещенную дисперсию разности\n",
        "    var_dif=dif.var()*n/(n-1)\n",
        "    # вычисляем t-статистику\n",
        "    t=mean_dif/math.sqrt(var_dif)*math.sqrt(n)\n",
        "    # вычисляем р-уровень\n",
        "    p = 1 - math.fabs(stats.t.cdf(t,n-1) - stats.t.cdf(-t,n-1))\n",
        "    return t,p"
      ],
      "metadata": {
        "id": "YPbLNKFMRxlW"
      },
      "execution_count": null,
      "outputs": []
    },
    {
      "cell_type": "code",
      "source": [
        "x = np.array ([172, 177, 158, 170, 178, 175, 164, 160, 169, 165])\n",
        "y = np.array ([173, 175, 162, 174, 175, 168, 155, 170, 160, 163])\n",
        "t,p=equalmean(x,y)\n",
        "print(\"t-статистика критерия = \",t)\n",
        "print(\"p-уровень = \",p)\n",
        "alpha=float(input(\"Введите уровень значимости \"))\n",
        "if p>alpha:\n",
        "    print(\"статистически значимых различий в росте матерей и дочерей нет\")\n",
        "else:\n",
        "    print(\"есть статистически значимые различия в росте матерей и дочерей\")\n",
        "print(\"\\n Проверка с помощью встроенной функции\")\n",
        "res=stats.ttest_rel (a=x, b=y)\n",
        "print(\"t-статистика критерия = \",res.statistic)\n",
        "print(\"p-уровень = \",res.pvalue)"
      ],
      "metadata": {
        "id": "lJ4zpU1A-ce0"
      },
      "execution_count": null,
      "outputs": []
    }
  ]
}