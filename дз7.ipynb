{
  "nbformat": 4,
  "nbformat_minor": 0,
  "metadata": {
    "colab": {
      "private_outputs": true,
      "provenance": [],
      "name": "дз7.ipynb",
      "authorship_tag": "ABX9TyNBrm5Ed5EQ5t9u37WmzVB4",
      "include_colab_link": true
    },
    "kernelspec": {
      "name": "python3",
      "display_name": "Python 3"
    },
    "language_info": {
      "name": "python"
    }
  },
  "cells": [
    {
      "cell_type": "markdown",
      "metadata": {
        "id": "view-in-github",
        "colab_type": "text"
      },
      "source": [
        "<a href=\"https://colab.research.google.com/github/Mitritch70/ForHomeWork_Git/blob/main/%D0%B4%D0%B77.ipynb\" target=\"_parent\"><img src=\"https://colab.research.google.com/assets/colab-badge.svg\" alt=\"Open In Colab\"/></a>"
      ]
    },
    {
      "cell_type": "code",
      "execution_count": null,
      "metadata": {
        "id": "yq27QKnPBz8w"
      },
      "outputs": [],
      "source": [
        "import numpy as np"
      ]
    },
    {
      "cell_type": "code",
      "source": [
        "import scipy.stats as stats"
      ],
      "metadata": {
        "id": "prtr5JvyC9qT"
      },
      "execution_count": null,
      "outputs": []
    },
    {
      "cell_type": "code",
      "source": [
        "import statistics"
      ],
      "metadata": {
        "id": "oSTNNm1KMmoe"
      },
      "execution_count": null,
      "outputs": []
    },
    {
      "cell_type": "code",
      "source": [
        "import math"
      ],
      "metadata": {
        "id": "Dm54g3TNNjgW"
      },
      "execution_count": null,
      "outputs": []
    },
    {
      "cell_type": "code",
      "source": [
        "from numpy import linalg as LA"
      ],
      "metadata": {
        "id": "58aOOsJv7UbN"
      },
      "execution_count": null,
      "outputs": []
    },
    {
      "cell_type": "markdown",
      "source": [
        "Выбрать тест и проверить, есть  ли различия между выборками:\n",
        "\n",
        "1 )  Даны две  независимые выборки. Не соблюдается условие нормальности\n",
        "x1  380,420, 290\n",
        "y1 140,360,200,900\n"
      ],
      "metadata": {
        "id": "am7bv218YUws"
      }
    },
    {
      "cell_type": "code",
      "source": [
        "x1=np.array([380,420,290])\n",
        "y1=np.array([140,360,200,900])\n",
        "alpha=0.05\n",
        "stats.mannwhitneyu(x1, y1)\n",
        "#статистически значимых различий нет"
      ],
      "metadata": {
        "id": "yUnldLaMYXYb"
      },
      "execution_count": null,
      "outputs": []
    },
    {
      "cell_type": "markdown",
      "source": [
        " Исследовалось влияние препарата на уровень давления пациентов. Сначала измерялось давление до приема препарата, потом через 10 минут и через 30 минут. Есть ли статистически значимые различия?\n",
        "\n",
        "1е измерение до приема препарата: 150, 160, 165, 145, 155\n",
        "2е измерение через 10 минут: 140, 155, 150,  130, 135\n",
        "3е измерение через 30 минут: 130, 130, 120, 130, 125\n"
      ],
      "metadata": {
        "id": "Uq7CM4bXYrP_"
      }
    },
    {
      "cell_type": "code",
      "source": [
        "x1=np.array([150, 160, 165, 145, 155])\n",
        "x2=np.array([140, 155, 150, 130, 135])\n",
        "x3=np.array([130, 130, 120, 130, 125])\n",
        "alpha=0.05\n",
        "stats.friedmanchisquare(x1, x2, x3)\n",
        " #статистически значимых различия есть\n",
        " #отвергаем, препарат влияет на давление"
      ],
      "metadata": {
        "id": "2N6jD9fDY9II"
      },
      "execution_count": null,
      "outputs": []
    },
    {
      "cell_type": "markdown",
      "source": [
        "3 ) Сравните 1 и 2 е измерения, предполагая, что 3го измерения через 30 минут не было."
      ],
      "metadata": {
        "id": "dGr02ngLZTfH"
      }
    },
    {
      "cell_type": "code",
      "source": [
        "x1=np.array([150, 160, 165, 145, 155])\n",
        "x2=np.array([140, 155, 150, 130, 135])\n",
        "alpha=0.05\n",
        "stats.wilcoxon(x1, x2)\n",
        "#препарат не влияет на давление"
      ],
      "metadata": {
        "id": "YogxWRoSZbmf"
      },
      "execution_count": null,
      "outputs": []
    },
    {
      "cell_type": "markdown",
      "source": [
        "Даны 3 группы  учеников плавания.\n",
        "В 1 группе время на дистанцию 50 м составляют:\n",
        "56, 60, 62, 55, 71, 67, 59, 58, 64, 67\n",
        "\n",
        "Вторая группа : 57, 58, 69, 48, 72, 70, 68, 71, 50, 53\n",
        "Третья группа: 57, 67, 49, 48, 47, 55, 66, 51, 54\n"
      ],
      "metadata": {
        "id": "QatV4ig3aBeZ"
      }
    },
    {
      "cell_type": "code",
      "source": [
        "x1=np.array([56, 60, 62, 55, 71, 67, 59, 58, 64, 67])\n",
        "x2=np.array([57, 58, 69, 48, 72, 70, 68, 71, 50, 53])\n",
        "x3=np.array([57, 67, 49, 48, 47, 55, 66, 51, 54])\n",
        "alpha=0.05\n",
        "stats.kruskal(x1,x2,x3)\n",
        "#время на дистанцию одинаковое"
      ],
      "metadata": {
        "id": "jpQJDMr1aC67"
      },
      "execution_count": null,
      "outputs": []
    },
    {
      "cell_type": "markdown",
      "source": [
        " Заявляется, что партия изготавливается со средним арифметическим 2,5 см. Проверить данную гипотезу, если известно, что размеры изделий подчинены нормальному закону распределения. Объем выборки 10, уровень статистической значимости 5%\n",
        "\n",
        "2.51, 2.35, 2.74, 2.56, 2.40, 2.36, 2.65, 2.7, 2.67, 2.34"
      ],
      "metadata": {
        "id": "cKkrGlSaaWUL"
      }
    },
    {
      "cell_type": "markdown",
      "source": [
        " Соствим гипотезы\n",
        "\n",
        "H0 : М = 2.5\n",
        "\n",
        "H1 : М ≠ 2.5"
      ],
      "metadata": {
        "id": "A50Xz7wAaqnc"
      }
    },
    {
      "cell_type": "code",
      "source": [
        "weights = np.array([2.51, 2.35, 2.74, 2.56, 2.40, 2.36, 2.65, 2.7, 2.67, 2.34])\n",
        "n = 10\n",
        "mean = weights.mean()\n",
        "std = weights.std(ddof=1)\n",
        "mean, std"
      ],
      "metadata": {
        "id": "A6tydzrwac-d"
      },
      "execution_count": null,
      "outputs": []
    },
    {
      "cell_type": "markdown",
      "source": [
        "Поскольку мы проверяем гипотезу относительно математического ожидания нормально распределённой случайной величины с неизвестной дисперсией, будем использовать статистику:\n",
        "\n",
        "t=(Xcр-a)/ϬX√n"
      ],
      "metadata": {
        "id": "CagGKl9sbLD2"
      }
    },
    {
      "cell_type": "code",
      "source": [
        "t = (mean-2.5)/(std/np.sqrt(n)) # t- наблюдаемое\n",
        "t"
      ],
      "metadata": {
        "id": "k2_7sQ-egGWp"
      },
      "execution_count": null,
      "outputs": []
    },
    {
      "cell_type": "code",
      "source": [],
      "metadata": {
        "id": "sl2fb1VXkJ--"
      },
      "execution_count": null,
      "outputs": []
    },
    {
      "cell_type": "markdown",
      "source": [
        "Доверительная вероятность = 0.05\n",
        ", число степеней свободы = n-1 = 9\n",
        "\n",
        "по таблице Стьюдента находим критическое:\n",
        "t1 = 0.064\n",
        "t2 = - 0.064\n",
        "ῼa = (-∞;-0.64)Ս(0.64;-∞)\n",
        "\n",
        "Значение t\n",
        " попадает в критическую область H1, таким образом, гипотезу\n",
        " не отвергаем, партия изготавливается со средним арифметическим ≠ 2.5"
      ],
      "metadata": {
        "id": "ueQebW3-gaCC"
      }
    }
  ]
}