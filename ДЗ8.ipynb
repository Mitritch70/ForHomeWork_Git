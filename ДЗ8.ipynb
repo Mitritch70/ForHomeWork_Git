{
  "nbformat": 4,
  "nbformat_minor": 0,
  "metadata": {
    "colab": {
      "private_outputs": true,
      "provenance": [],
      "authorship_tag": "ABX9TyNT0XjjOXFaLwOOM7lgnTAg",
      "include_colab_link": true
    },
    "kernelspec": {
      "name": "python3",
      "display_name": "Python 3"
    },
    "language_info": {
      "name": "python"
    }
  },
  "cells": [
    {
      "cell_type": "markdown",
      "metadata": {
        "id": "view-in-github",
        "colab_type": "text"
      },
      "source": [
        "<a href=\"https://colab.research.google.com/github/Mitritch70/ForHomeWork_Git/blob/main/%D0%94%D0%978.ipynb\" target=\"_parent\"><img src=\"https://colab.research.google.com/assets/colab-badge.svg\" alt=\"Open In Colab\"/></a>"
      ]
    },
    {
      "cell_type": "code",
      "execution_count": null,
      "metadata": {
        "id": "yq27QKnPBz8w"
      },
      "outputs": [],
      "source": [
        "import numpy as np"
      ]
    },
    {
      "cell_type": "code",
      "source": [
        "import scipy.stats as stats"
      ],
      "metadata": {
        "id": "prtr5JvyC9qT"
      },
      "execution_count": null,
      "outputs": []
    },
    {
      "cell_type": "code",
      "source": [
        "import statistics"
      ],
      "metadata": {
        "id": "oSTNNm1KMmoe"
      },
      "execution_count": null,
      "outputs": []
    },
    {
      "cell_type": "code",
      "source": [
        "import pandas as pd"
      ],
      "metadata": {
        "id": "Dm54g3TNNjgW"
      },
      "execution_count": null,
      "outputs": []
    },
    {
      "cell_type": "code",
      "source": [
        "import matplotlib.pyplot as plt"
      ],
      "metadata": {
        "id": "58aOOsJv7UbN"
      },
      "execution_count": null,
      "outputs": []
    },
    {
      "cell_type": "markdown",
      "source": [
        "1. Даны значения величины заработной платы заемщиков банка (zp) и значения их поведенческого кредитного скоринга (ks): zp = [35, 45, 190, 200, 40, 70, 54, 150, 120, 110], ks = [401, 574, 874, 919, 459, 739, 653, 902, 746, 832]. Найдите ковариацию этих двух величин с помощью элементарных действий, а затем с помощью функции cov из numpy Полученные значения должны быть равны. Найдите коэффициент корреляции Пирсона с помощью ковариации и среднеквадратичных отклонений двух признаков, а затем с использованием функций из библиотек numpy и pandas."
      ],
      "metadata": {
        "id": "RYXLqvJaVf9y"
      }
    },
    {
      "cell_type": "code",
      "source": [
        "zp = np.array([35, 45, 190, 200, 40, 70, 54, 150, 120, 110])\n",
        "ks = np.array([401, 574, 874, 919, 459, 739, 653, 902, 746, 832])"
      ],
      "metadata": {
        "id": "GNGatNRtPVAK"
      },
      "execution_count": null,
      "outputs": []
    },
    {
      "cell_type": "markdown",
      "source": [
        "Посмотрим на графике, есть ли зависимость между данными?"
      ],
      "metadata": {
        "id": "zHG1JXNsPg8j"
      }
    },
    {
      "cell_type": "code",
      "source": [
        "plt.scatter(zp,ks)\n",
        "plt.xlabel('Величина заработной платы')\n",
        "plt.ylabel('Поведенческий кредитный скоринг', rotation=90)\n",
        "plt.show()"
      ],
      "metadata": {
        "id": "mbRfrH3CPmay"
      },
      "execution_count": null,
      "outputs": []
    },
    {
      "cell_type": "markdown",
      "source": [
        "Как видно из графика, большим значениям величины заработной платы соответствуют большие размеры кредитного скоринга. Значит будем ожидать, что между этими данными существует выраженная положительная корреляция.\n",
        "\n",
        "Найдем коэффициент ковариации по формуле:\n",
        "cov(x,y)= M(X,Y)-M(X)*M(Y)\n"
      ],
      "metadata": {
        "id": "a62cumfLRdFu"
      }
    },
    {
      "cell_type": "code",
      "source": [
        "def covar(array1, array2):\n",
        "    MXY=sum(array1*array2)/len(array1)\n",
        "    MX=sum(array1)/len(array1)\n",
        "    MY=sum(array2)/len(array2)\n",
        "    return MXY-MX*MY"
      ],
      "metadata": {
        "id": "3sDpj_8YR5WP"
      },
      "execution_count": null,
      "outputs": []
    },
    {
      "cell_type": "code",
      "source": [
        "covar(zp,ks)"
      ],
      "metadata": {
        "id": "k1zhIzjHSDPI"
      },
      "execution_count": null,
      "outputs": []
    },
    {
      "cell_type": "markdown",
      "source": [
        "\n",
        "Воспользуемся функцией cov библиотеки numpy:"
      ],
      "metadata": {
        "id": "Txtqu3qvSHiH"
      }
    },
    {
      "cell_type": "code",
      "source": [
        "np.cov(zp, ks, ddof=0)"
      ],
      "metadata": {
        "id": "1CVmm4s2SJmM"
      },
      "execution_count": null,
      "outputs": []
    },
    {
      "cell_type": "markdown",
      "source": [
        "Коэффициент корреляции Пирсона расчитаем по формуле:\n",
        " r(x.y)=cjv(x,y)/(Ϭx*Ϭy)\n",
        "При этом следует помнить, что для несмещённой ковариации берутся несмещённые значения среднего квадратического отклонения, а для смещённой-смещённые."
      ],
      "metadata": {
        "id": "P3u2xMfASVEu"
      }
    },
    {
      "cell_type": "code",
      "source": [
        "def sigma(array, offset=True):\n",
        "    mean_array=sum(array)/len(array)\n",
        "    square_dev=(array-mean_array)**2\n",
        "    variance=sum(square_dev)/len(array) if offset else sum(square_dev)/(len(array)-1)\n",
        "    return variance**0.5"
      ],
      "metadata": {
        "id": "r5xJnqkcUhje"
      },
      "execution_count": null,
      "outputs": []
    },
    {
      "cell_type": "code",
      "source": [
        "r=covar(zp, ks)/(sigma(zp)*sigma(ks))\n",
        "print(f'Коэффициент корреляции r = {r: .5f}')"
      ],
      "metadata": {
        "id": "kFYBzUOcUpah"
      },
      "execution_count": null,
      "outputs": []
    },
    {
      "cell_type": "code",
      "source": [
        "r1=np.cov(zp, ks, ddof=1)/(sigma(zp, offset=False)*sigma(ks, offset=False))\n",
        "print(f'Коэффициент корреляции r = {r1}')"
      ],
      "metadata": {
        "id": "Y2yqWCmAUxj_"
      },
      "execution_count": null,
      "outputs": []
    },
    {
      "cell_type": "markdown",
      "source": [
        "Воспользуемся функцией corrcoef библиотеки numpy:"
      ],
      "metadata": {
        "id": "Sz3t-WqJU6cw"
      }
    },
    {
      "cell_type": "code",
      "source": [
        "np.corrcoef(zp,ks)"
      ],
      "metadata": {
        "id": "V3R8UJ-iU9vP"
      },
      "execution_count": null,
      "outputs": []
    },
    {
      "cell_type": "code",
      "source": [
        "df=pd.DataFrame(data={'zp':zp, 'ks':ks})\n",
        "df"
      ],
      "metadata": {
        "id": "tXzY5ufrVD0M"
      },
      "execution_count": null,
      "outputs": []
    },
    {
      "cell_type": "markdown",
      "source": [],
      "metadata": {
        "id": "2W-dmDeSVUs9"
      }
    },
    {
      "cell_type": "code",
      "source": [
        "df.corr()"
      ],
      "metadata": {
        "id": "brh-5G3hVKbG"
      },
      "execution_count": null,
      "outputs": []
    },
    {
      "cell_type": "markdown",
      "source": [
        "Как и предполагалось из графика, существует сильная линейная взаимосвязь между исходными данными."
      ],
      "metadata": {
        "id": "7I4k4uZcVZRj"
      }
    },
    {
      "cell_type": "markdown",
      "source": [
        "2. Измерены значения IQ выборки студентов, обучающихся в местных технических вузах: 131, 125, 115, 122, 131, 115, 107, 99, 125, 111. Известно, что в генеральной совокупности IQ распределен нормально. Найдите доверительный интервал для математического ожидания с надежностью 0.95."
      ],
      "metadata": {
        "id": "1ySWsWiPVsz3"
      }
    },
    {
      "cell_type": "markdown",
      "source": [
        "Поскольку из условия задачи нам ничего не известно ни о мат. ожидании генеральной совокупности ни о среднем квадратическом отклонении для генеральной совокупности, то для расчета\n",
        "-го доверительного интервала будем использовать\n",
        "-критерий, и формулу:\n",
        "X+-t(a/2)*(Ϭ/√n)\n",
        "\n"
      ],
      "metadata": {
        "id": "WSXC3rUAWCVS"
      }
    },
    {
      "cell_type": "code",
      "source": [
        "arr=np.array([131, 125, 115, 122, 131, 115, 107, 99, 125, 111])\n",
        "print(f'Среднее выборочное: {np.mean(arr): .2f},\\n'\n",
        "      f'Размер выборки n={len(arr)},\\n'\n",
        "      f'Среднее квадратическое отклонение по выборке(несмещенное): {np.std(arr, ddof=1): .2f}.'\n",
        "     )"
      ],
      "metadata": {
        "id": "V2g8li0iYIut"
      },
      "execution_count": null,
      "outputs": []
    },
    {
      "cell_type": "code",
      "source": [
        "def t_from_table(confidens, len_array):\n",
        "    alpha=(1-confidens)\n",
        "    return stats.t.ppf(1-alpha/2, len_array-1)\n",
        "print(f'Табличное значение t-критерия для 95%-го доверительного интервала данной выборки: {t_from_table(0.95, len(arr)): .3f}')"
      ],
      "metadata": {
        "id": "7mqODRDzYQZA"
      },
      "execution_count": null,
      "outputs": []
    },
    {
      "cell_type": "code",
      "source": [
        "def confidens_int(arr, confidens):\n",
        "    return round(np.mean(arr)-t_from_table(confidens,len(arr))*np.std(arr, ddof=1)/len(arr)**0.5,3), \\\n",
        "           round(np.mean(arr)+t_from_table(confidens,len(arr))*np.std(arr, ddof=1)/len(arr)**0.5,3)\n",
        "\n",
        "print(f'95%-й доверительный интервал для истинного значения IQ: {confidens_int(arr, 0.95)}.')"
      ],
      "metadata": {
        "id": "rEWYPoORYZEn"
      },
      "execution_count": null,
      "outputs": []
    },
    {
      "cell_type": "markdown",
      "source": [
        "3. Известно, что рост футболистов в сборной распределен нормально с дисперсией генеральной совокупности, равной 25 кв.см. Объем выборки равен 27, среднее выборочное составляет 174.2. Найдите доверительный интервал для математического ожидания с надежностью 0.95."
      ],
      "metadata": {
        "id": "kJYS0vKNYaqv"
      }
    },
    {
      "cell_type": "markdown",
      "source": [
        "Поскольку нам известнa дисперсия генеральной совокупности Ϭ^2 = 25\n",
        ", то для расчета 95%\n",
        "-го доверительного интервала, будем использовать\n",
        "Z -критерий. И границы доверительного интервала расчитаем по формуле:X+-zα/2*(√Ϭ^2/√n)\n",
        "  где:\n",
        "X = M = 174,2 -среднее значение выборки\n",
        "zα/2 табличное значение\n",
        "Z-критерия, и для 95% доверительного интервала\n",
        "Ϭ^2 = 25-дисперсия генеральной совокупности\n",
        "n = 27 -объем выборки"
      ],
      "metadata": {
        "id": "V4pBFZieYo5r"
      }
    },
    {
      "cell_type": "code",
      "source": [
        "left=174.2-(1.96*25**0.5)/27**0.5\n",
        "right=174.2+(1.96*25**0.5)/27**0.5\n",
        "print(f'95%-й доверительный интервал для оценки мат. ожидания генеральной совокупности: [{left: .4f};{right: .4f}].')"
      ],
      "metadata": {
        "id": "z0TkspF0YiH8"
      },
      "execution_count": null,
      "outputs": []
    }
  ]
}